{
  "nbformat": 4,
  "nbformat_minor": 0,
  "metadata": {
    "colab": {
      "provenance": []
    },
    "kernelspec": {
      "name": "python3",
      "display_name": "Python 3"
    },
    "language_info": {
      "name": "python"
    }
  },
  "cells": [
    {
      "cell_type": "code",
      "execution_count": null,
      "metadata": {
        "colab": {
          "base_uri": "https://localhost:8080/"
        },
        "id": "ftlR7yX3OQ9U",
        "outputId": "26115214-e541-4665-fafa-13c0c27247bb"
      },
      "outputs": [
        {
          "output_type": "stream",
          "name": "stdout",
          "text": [
            "HOLA MUNDO\n"
          ]
        }
      ],
      "source": [
        "print(\"HOLA MUNDO\")"
      ]
    },
    {
      "cell_type": "code",
      "source": [
        "class SimpleChatbot:\n",
        "    def __init__(self):\n",
        "        self.responses = {\n",
        "            'introduction': [\n",
        "                \"Hola, soy el Chatbot del Banco Soliman. ¿En qué puedo ayudarte hoy?\",\n",
        "                \"Bienvenido al Banco Soliman. ¿Cómo puedo asistirte?\",\n",
        "                \"Saludos, ¿cómo puedo ser de ayuda en tu visita al Banco Soliman?\"\n",
        "            ],\n",
        "            'location': [\n",
        "                \"Estamos ubicados en La Candelaria Tlapala, Chalco, Estado de México.\",\n",
        "                \"La dirección de nuestra sucursal es La Candelaria Tlapala, Chalco, Estado de México.\"\n",
        "            ],\n",
        "            'services': [\n",
        "                \"En el Banco Soliman, ofrecemos servicios como envío y recepción de dinero, atención al cliente, donaciones y todas las funciones de una sucursal bancaria.\",\n",
        "                \"Nuestros servicios incluyen envío y recepción de dinero, atención al cliente, donaciones y todas las funciones bancarias habituales.\"\n",
        "            ],\n",
        "            'account_opening': [\n",
        "                \"Para abrir una cuenta en el Banco Soliman, simplemente visita nuestra sucursal con los documentos necesarios. Nuestro personal estará encantado de ayudarte con el proceso.\",\n",
        "                \"El procedimiento para abrir una cuenta en el Banco Soliman es sencillo. Ven a nuestra sucursal con la documentación requerida, y nuestro equipo te guiará durante el proceso.\"\n",
        "            ],\n",
        "            'account_difference': [\n",
        "                \"La principal diferencia entre una cuenta de ahorro y una cuenta corriente es que la cuenta de ahorro está diseñada para ahorrar dinero, mientras que la cuenta corriente se utiliza para transacciones diarias. ¿Hay algo más que te gustaría saber?\",\n",
        "                \"En términos simples, una cuenta de ahorro es para ahorrar, mientras que una cuenta corriente es para transacciones diarias. ¿Hay algo más en lo que pueda ayudarte?\"\n",
        "            ]\n",
        "        }\n",
        "\n",
        "    def get_response(self, category):\n",
        "        return self.responses.get(category, [\"Lo siento, no entendí tu pregunta.\"])\n",
        "\n",
        "\n",
        "# Interactuar con el chatbot\n",
        "chatbot = SimpleChatbot()\n",
        "\n",
        "categories = ['introduction', 'location', 'services', 'account_opening', 'account_difference']\n",
        "\n",
        "for category in categories:\n",
        "    print(\"Usuario:\", category)\n",
        "    response = chatbot.get_response(category)\n",
        "    print(\"Chatbot:\", response[0])  # Mostrar solo la primera respuesta si hay varias\n",
        "    print()\n"
      ],
      "metadata": {
        "colab": {
          "base_uri": "https://localhost:8080/"
        },
        "id": "AJtdHb06RwHE",
        "outputId": "52e4b922-c0de-4fe6-901b-bb9dcad02ac3"
      },
      "execution_count": null,
      "outputs": [
        {
          "output_type": "stream",
          "name": "stdout",
          "text": [
            "Usuario: introduction\n",
            "Chatbot: Hola, soy el Chatbot del Banco Soliman. ¿En qué puedo ayudarte hoy?\n",
            "\n",
            "Usuario: location\n",
            "Chatbot: Estamos ubicados en La Candelaria Tlapala, Chalco, Estado de México.\n",
            "\n",
            "Usuario: services\n",
            "Chatbot: En el Banco Soliman, ofrecemos servicios como envío y recepción de dinero, atención al cliente, donaciones y todas las funciones de una sucursal bancaria.\n",
            "\n",
            "Usuario: account_opening\n",
            "Chatbot: Para abrir una cuenta en el Banco Soliman, simplemente visita nuestra sucursal con los documentos necesarios. Nuestro personal estará encantado de ayudarte con el proceso.\n",
            "\n",
            "Usuario: account_difference\n",
            "Chatbot: La principal diferencia entre una cuenta de ahorro y una cuenta corriente es que la cuenta de ahorro está diseñada para ahorrar dinero, mientras que la cuenta corriente se utiliza para transacciones diarias. ¿Hay algo más que te gustaría saber?\n",
            "\n"
          ]
        }
      ]
    },
    {
      "cell_type": "code",
      "source": [
        "class SimpleChatbot:\n",
        "    def __init__(self):\n",
        "        self.responses = {\n",
        "            'introduction': [\n",
        "                \"Hello, I am the Soliman Bank Chatbot. How can I assist you today?\",\n",
        "                \"Welcome to Soliman Bank. How may I help you?\",\n",
        "                \"Greetings, how can I be of assistance during your visit to Soliman Bank?\"\n",
        "            ],\n",
        "            'location': [\n",
        "                \"We are located in La Candelaria Tlapala, Chalco, State of Mexico.\",\n",
        "                \"The address of our branch is La Candelaria Tlapala, Chalco, State of Mexico.\"\n",
        "            ],\n",
        "            'services': [\n",
        "                \"At Soliman Bank, we offer services such as money transfer, customer service, donations, and all the functions of a bank branch.\",\n",
        "                \"Our services include money transfer, customer service, donations, and all usual banking functions.\"\n",
        "            ],\n",
        "            'account_opening': [\n",
        "                \"To open an account at Soliman Bank, simply visit our branch with the necessary documents. Our staff will be happy to assist you with the process.\",\n",
        "                \"The procedure to open an account at Soliman Bank is straightforward. Come to our branch with the required documentation, and our team will guide you through the process.\"\n",
        "            ],\n",
        "            'account_difference': [\n",
        "                \"The main difference between a savings account and a current account is that the savings account is designed for saving money, while the current account is used for daily transactions. Is there anything else you would like to know?\",\n",
        "                \"In simple terms, a savings account is for saving, while a current account is for daily transactions. Is there anything else I can help you with?\"\n",
        "            ]\n",
        "        }\n",
        "\n",
        "    def get_response(self, category):\n",
        "        return self.responses.get(category, [\"I'm sorry, I didn't understand your question.\"])\n",
        "\n",
        "\n",
        "# Interactuar con el chatbot\n",
        "chatbot = SimpleChatbot()\n",
        "\n",
        "while True:\n",
        "    print(\"Select an option:\")\n",
        "    print(\"1. Introduction\\n2. Location\\n3. Services\\n4. Account Opening\\n5. Account Difference\\n0. Exit\")\n",
        "\n",
        "    choice = input(\"Enter your choice (0-5): \")\n",
        "\n",
        "    if choice == '0':\n",
        "        print(\"Exiting the chatbot. Goodbye!\")\n",
        "        break\n",
        "\n",
        "    if choice in {'1', '2', '3', '4', '5'}:\n",
        "        category = {\n",
        "            '1': 'introduction',\n",
        "            '2': 'location',\n",
        "            '3': 'services',\n",
        "            '4': 'account_opening',\n",
        "            '5': 'account_difference'\n",
        "        }[choice]\n",
        "\n",
        "        response = chatbot.get_response(category)\n",
        "        print(f\"Chatbot: {response[0]}\\n\")\n",
        "    else:\n",
        "        print(\"Invalid choice. Please enter a number between 0 and 5.\")\n"
      ],
      "metadata": {
        "colab": {
          "base_uri": "https://localhost:8080/"
        },
        "id": "DntL8h2DUpRm",
        "outputId": "aa2d9c05-3bd2-4c47-ea24-a7ca8343922e"
      },
      "execution_count": null,
      "outputs": [
        {
          "output_type": "stream",
          "name": "stdout",
          "text": [
            "Select an option:\n",
            "1. Introduction\n",
            "2. Location\n",
            "3. Services\n",
            "4. Account Opening\n",
            "5. Account Difference\n",
            "0. Exit\n",
            "Enter your choice (0-5): 4\n",
            "Chatbot: To open an account at Soliman Bank, simply visit our branch with the necessary documents. Our staff will be happy to assist you with the process.\n",
            "\n",
            "Select an option:\n",
            "1. Introduction\n",
            "2. Location\n",
            "3. Services\n",
            "4. Account Opening\n",
            "5. Account Difference\n",
            "0. Exit\n",
            "Enter your choice (0-5): 5\n",
            "Chatbot: The main difference between a savings account and a current account is that the savings account is designed for saving money, while the current account is used for daily transactions. Is there anything else you would like to know?\n",
            "\n",
            "Select an option:\n",
            "1. Introduction\n",
            "2. Location\n",
            "3. Services\n",
            "4. Account Opening\n",
            "5. Account Difference\n",
            "0. Exit\n",
            "Enter your choice (0-5): 0\n",
            "Exiting the chatbot. Goodbye!\n"
          ]
        }
      ]
    }
  ]
}